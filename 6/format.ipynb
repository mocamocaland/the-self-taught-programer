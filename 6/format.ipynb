{
 "cells": [
  {
   "cell_type": "code",
   "execution_count": 8,
   "metadata": {},
   "outputs": [
    {
     "data": {
      "text/plain": [
       "'こんにちは、ウィリアム・フォークナー'"
      ]
     },
     "execution_count": 8,
     "metadata": {},
     "output_type": "execute_result"
    }
   ],
   "source": [
    "\"こんにちは、{}\".format(\"ウィリアム・フォークナー\")"
   ]
  },
  {
   "cell_type": "code",
   "execution_count": 9,
   "metadata": {},
   "outputs": [
    {
     "data": {
      "text/plain": [
       "'こんにちは、ウィリアム・フォークナー'"
      ]
     },
     "execution_count": 9,
     "metadata": {},
     "output_type": "execute_result"
    }
   ],
   "source": [
    "name = \"ウィリアム・フォークナー\"\n",
    "\"こんにちは、{}\".format(name)"
   ]
  },
  {
   "cell_type": "code",
   "execution_count": 10,
   "metadata": {},
   "outputs": [
    {
     "data": {
      "text/plain": [
       "\"ウィリアム・フォークナー' は 1897 年に生まれました。\""
      ]
     },
     "execution_count": 10,
     "metadata": {},
     "output_type": "execute_result"
    }
   ],
   "source": [
    "author = \"ウィリアム・フォークナー'\"\n",
    "year_born = \"1897\"\n",
    "\"{} は {} 年に生まれました。\".format(author, year_born)"
   ]
  },
  {
   "cell_type": "code",
   "execution_count": 2,
   "metadata": {},
   "outputs": [
    {
     "name": "stdout",
     "output_type": "stream",
     "text": [
      " 何が:burudog\n",
      "いつ:tomorrow\n",
      "どこで:park\n",
      "どうした:unko\n",
      "burudogはtomorrowにparkでunko。\n"
     ]
    }
   ],
   "source": [
    "what = input(\" 何が:\")\n",
    "when = input(\"いつ:\")\n",
    "where = input(\"どこで:\")\n",
    "do = input(\"どうした:\")\n",
    "\n",
    "r = \"{}は{}に{}で{}。\".format(what, when, where, do)\n",
    "print(r)"
   ]
  },
  {
   "cell_type": "code",
   "execution_count": 3,
   "metadata": {},
   "outputs": [
    {
     "data": {
      "text/plain": [
       "['水たまりを飛び越えたんだ', '3メートルもあったんだぜ！']"
      ]
     },
     "execution_count": 3,
     "metadata": {},
     "output_type": "execute_result"
    }
   ],
   "source": [
    "#分割\n",
    "\"水たまりを飛び越えたんだ。3メートルもあったんだぜ！\".split(\"。\")"
   ]
  },
  {
   "cell_type": "code",
   "execution_count": null,
   "metadata": {},
   "outputs": [],
   "source": [
    "# 結合\n",
    "first_there = \"abc\"\n",
    "result = \"+\".join(first_there"
   ]
  }
 ],
 "metadata": {
  "kernelspec": {
   "display_name": "Python 3",
   "language": "python",
   "name": "python3"
  },
  "language_info": {
   "codemirror_mode": {
    "name": "ipython",
    "version": 3
   },
   "file_extension": ".py",
   "mimetype": "text/x-python",
   "name": "python",
   "nbconvert_exporter": "python",
   "pygments_lexer": "ipython3",
   "version": "3.6.5"
  }
 },
 "nbformat": 4,
 "nbformat_minor": 2
}
