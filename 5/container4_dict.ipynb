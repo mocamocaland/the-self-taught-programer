{
 "cells": [
  {
   "cell_type": "code",
   "execution_count": 5,
   "metadata": {},
   "outputs": [
    {
     "data": {
      "text/plain": [
       "{}"
      ]
     },
     "execution_count": 5,
     "metadata": {},
     "output_type": "execute_result"
    }
   ],
   "source": [
    "my_dict = dict()\n",
    "my_dict"
   ]
  },
  {
   "cell_type": "code",
   "execution_count": 6,
   "metadata": {},
   "outputs": [
    {
     "data": {
      "text/plain": [
       "{}"
      ]
     },
     "execution_count": 6,
     "metadata": {},
     "output_type": "execute_result"
    }
   ],
   "source": [
    "my_dict = {}\n",
    "my_dict"
   ]
  },
  {
   "cell_type": "code",
   "execution_count": 7,
   "metadata": {},
   "outputs": [
    {
     "data": {
      "text/plain": [
       "{'Apple': 'Red', 'Banana': 'Yellow'}"
      ]
     },
     "execution_count": 7,
     "metadata": {},
     "output_type": "execute_result"
    }
   ],
   "source": [
    "fruits = {\"Apple\": \"Red\",\n",
    "         \"Banana\": \"Yellow\"}\n",
    "fruits"
   ]
  },
  {
   "cell_type": "code",
   "execution_count": 8,
   "metadata": {},
   "outputs": [
    {
     "data": {
      "text/plain": [
       "'fun'"
      ]
     },
     "execution_count": 8,
     "metadata": {},
     "output_type": "execute_result"
    }
   ],
   "source": [
    "facts = dict()\n",
    "\n",
    "# バリューを追加\n",
    "facts[\"code\"] = \"fun\"\n",
    "# キーで参照\n",
    "facts[\"code\"]"
   ]
  },
  {
   "cell_type": "code",
   "execution_count": 10,
   "metadata": {},
   "outputs": [
    {
     "data": {
      "text/plain": [
       "'Gates'"
      ]
     },
     "execution_count": 10,
     "metadata": {},
     "output_type": "execute_result"
    }
   ],
   "source": [
    "# バリューを追加\n",
    "facts[\"Bill\"] = \"Gates\"\n",
    "# キーで参照\n",
    "facts[\"Bill\"]"
   ]
  },
  {
   "cell_type": "code",
   "execution_count": 11,
   "metadata": {},
   "outputs": [
    {
     "data": {
      "text/plain": [
       "1776"
      ]
     },
     "execution_count": 11,
     "metadata": {},
     "output_type": "execute_result"
    }
   ],
   "source": [
    "# バリューを追加\n",
    "facts[\"founded\"] = 1776\n",
    "# キーで参照\n",
    "facts[\"founded\"]"
   ]
  },
  {
   "cell_type": "code",
   "execution_count": 13,
   "metadata": {},
   "outputs": [
    {
     "data": {
      "text/plain": [
       "True"
      ]
     },
     "execution_count": 13,
     "metadata": {},
     "output_type": "execute_result"
    }
   ],
   "source": [
    "bill = {\"Bill Gates\": \"charitable\"}\n",
    "\"Bill Gates\" in bill"
   ]
  },
  {
   "cell_type": "code",
   "execution_count": 14,
   "metadata": {},
   "outputs": [
    {
     "data": {
      "text/plain": [
       "True"
      ]
     },
     "execution_count": 14,
     "metadata": {},
     "output_type": "execute_result"
    }
   ],
   "source": [
    "bill = {\"Bill Gates\": \"charritable\"}\n",
    "\"Bill Doors\" not in bill"
   ]
  },
  {
   "cell_type": "code",
   "execution_count": 15,
   "metadata": {},
   "outputs": [
    {
     "data": {
      "text/plain": [
       "{'1984': 'Orwell', 'Dracula': 'Stoker'}"
      ]
     },
     "execution_count": 15,
     "metadata": {},
     "output_type": "execute_result"
    }
   ],
   "source": [
    "books = {\"Dracula\": \"Stoker\",\n",
    "         \"1984\": \"Orwell\",\n",
    "         \"The Trial\": \"Kafka\"}\n",
    "\n",
    "del books[\"The Trial\"]\n",
    "\n",
    "books"
   ]
  },
  {
   "cell_type": "code",
   "execution_count": 16,
   "metadata": {},
   "outputs": [
    {
     "name": "stdout",
     "output_type": "stream",
     "text": [
      "数字を入力して下さい:3\n",
      "me\n"
     ]
    }
   ],
   "source": [
    "songs = {\"1\": \"fun\",\n",
    "         \"2\": \"blue\",\n",
    "         \"3\": \"me\",\n",
    "         \"4\": \"floor\",\n",
    "         \"5\": \"live\"\n",
    "        }\n",
    "n = input(\"数字を入力して下さい:\")\n",
    "if n in songs:\n",
    "    song = songs[n]\n",
    "    print(song)\n",
    "else:\n",
    "    print(\"見つかりません。\")"
   ]
  },
  {
   "cell_type": "code",
   "execution_count": 1,
   "metadata": {},
   "outputs": [
    {
     "name": "stdout",
     "output_type": "stream",
     "text": [
      "[['カニエ・ウエスト', 'ジェイ・Z', 'エミネム', 'ナズ'], ['ボブ・ディラン', 'ザ・ビートルズ', 'レッド・ツェッペリン'], ['ゼッズ・デッド', 'ティエスト']]\n"
     ]
    }
   ],
   "source": [
    "# コンテナの中のコンテナ\n",
    "lists = []\n",
    "rap = [\"カニエ・ウエスト\", \"ジェイ・Z\", \"エミネム\", \"ナズ\"]\n",
    "rock = [\"ボブ・ディラン\",\"ザ・ビートルズ\",\"レッド・ツェッペリン\"]\n",
    "djs = [\"ゼッズ・デッド\", \"ティエスト\"]\n",
    "\n",
    "lists.append(rap)\n",
    "lists.append(rock)\n",
    "lists.append(djs)\n",
    "\n",
    "print(lists)"
   ]
  },
  {
   "cell_type": "code",
   "execution_count": 2,
   "metadata": {},
   "outputs": [
    {
     "name": "stdout",
     "output_type": "stream",
     "text": [
      "['カニエ・ウエスト', 'ジェイ・Z', 'エミネム', 'ナズ']\n"
     ]
    }
   ],
   "source": [
    "rap = lists[0]\n",
    "print(rap)"
   ]
  },
  {
   "cell_type": "code",
   "execution_count": 3,
   "metadata": {},
   "outputs": [
    {
     "name": "stdout",
     "output_type": "stream",
     "text": [
      "['カニエ・ウエスト', 'ジェイ・Z', 'エミネム', 'ナズ', 'ケンドリック・ラマー']\n",
      "[['カニエ・ウエスト', 'ジェイ・Z', 'エミネム', 'ナズ', 'ケンドリック・ラマー'], ['ボブ・ディラン', 'ザ・ビートルズ', 'レッド・ツェッペリン'], ['ゼッズ・デッド', 'ティエスト']]\n"
     ]
    }
   ],
   "source": [
    "rap = lists[0]\n",
    "rap.append(\"ケンドリック・ラマー\")\n",
    "print(rap)\n",
    "print(lists)"
   ]
  },
  {
   "cell_type": "code",
   "execution_count": 4,
   "metadata": {},
   "outputs": [
    {
     "name": "stdout",
     "output_type": "stream",
     "text": [
      "[(34.0522, 188.2437), (41.8781, 87.6298)]\n"
     ]
    }
   ],
   "source": [
    "locations = []\n",
    "la = (34.0522, 188.2437)\n",
    "chicago = (41.8781, 87.6298)\n",
    "\n",
    "locations.append(la)\n",
    "locations.append(chicago)\n",
    "\n",
    "print(locations)"
   ]
  },
  {
   "cell_type": "code",
   "execution_count": 6,
   "metadata": {},
   "outputs": [
    {
     "name": "stdout",
     "output_type": "stream",
     "text": [
      "(['Edgar Allan Poe', 'Charles Dickens'], ['Hemingway', 'Fitzgerald', 'Orwell'])\n"
     ]
    }
   ],
   "source": [
    "eights = [\"Edgar Allan Poe\", \"Charles Dickens\"]\n",
    "nines = [\"Hemingway\", \"Fitzgerald\", \"Orwell\"]\n",
    "\n",
    "authors = (eights, nines)\n",
    "print(authors)"
   ]
  },
  {
   "cell_type": "code",
   "execution_count": 1,
   "metadata": {},
   "outputs": [
    {
     "name": "stdout",
     "output_type": "stream",
     "text": [
      "[{'Hemingway': '7.21.1899', 'Fitzgerald': '9.24.1896'}]\n",
      "({'Hemingway': '7.21.1899', 'Fitzgerald': '9.24.1896'},)\n"
     ]
    }
   ],
   "source": [
    "# 辞書のバリューとしてリスト、タプル、辞書を格納する\n",
    "bday = {\"Hemingway\": \"7.21.1899\",\n",
    "             \"Fitzgerald\": \"9.24.1896\"}\n",
    "\n",
    "my_list = [bday]\n",
    "print(my_list)\n",
    "my_tuple = (bday,)\n",
    "print(my_tuple)"
   ]
  },
  {
   "cell_type": "code",
   "execution_count": 2,
   "metadata": {},
   "outputs": [],
   "source": [
    "ny = {\n",
    "    \"座標\": (40.7128, 74.0059),\n",
    "    \"セレブ\": [\n",
    "        \"ウッディ・アレン\",\n",
    "        \"ジェイ・z\",\n",
    "        \"ケビン・ベーコン\",\n",
    "    ],\n",
    "    \"事実\": {\n",
    "        \"州\": \"ニューヨーク\",\n",
    "        \"国\": \"アメリカ\",\n",
    "    }\n",
    "}"
   ]
  },
  {
   "cell_type": "code",
   "execution_count": 3,
   "metadata": {},
   "outputs": [
    {
     "data": {
      "text/plain": [
       "{'座標': (40.7128, 74.0059),\n",
       " 'セレブ': ['ウッディ・アレン', 'ジェイ・z', 'ケビン・ベーコン'],\n",
       " '事実': {'州': 'ニューヨーク', '国': 'アメリカ'}}"
      ]
     },
     "execution_count": 3,
     "metadata": {},
     "output_type": "execute_result"
    }
   ],
   "source": [
    "ny"
   ]
  },
  {
   "cell_type": "code",
   "execution_count": null,
   "metadata": {},
   "outputs": [],
   "source": []
  }
 ],
 "metadata": {
  "kernelspec": {
   "display_name": "Python 3",
   "language": "python",
   "name": "python3"
  },
  "language_info": {
   "codemirror_mode": {
    "name": "ipython",
    "version": 3
   },
   "file_extension": ".py",
   "mimetype": "text/x-python",
   "name": "python",
   "nbconvert_exporter": "python",
   "pygments_lexer": "ipython3",
   "version": "3.6.5"
  }
 },
 "nbformat": 4,
 "nbformat_minor": 2
}
