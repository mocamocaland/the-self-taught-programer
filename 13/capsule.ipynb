{
 "cells": [
  {
   "cell_type": "code",
   "execution_count": 16,
   "metadata": {},
   "outputs": [],
   "source": [
    "# カプセル化\n",
    "\n",
    "class Rectangle:\n",
    "    def __init__(self, w, l):\n",
    "        self.width = w\n",
    "        self.len = l\n",
    "        \n",
    "        \n",
    "    def area(self):\n",
    "        return self.width * self.len # lenとwidthがインスタンス"
   ]
  },
  {
   "cell_type": "code",
   "execution_count": 17,
   "metadata": {},
   "outputs": [
    {
     "name": "stdout",
     "output_type": "stream",
     "text": [
      "[100, 2, 3, 4, 5]\n"
     ]
    }
   ],
   "source": [
    "class Data:\n",
    "    def __init__(self):\n",
    "        self.nums = [1, 2, 3, 4, 5]\n",
    "        \n",
    "    def change_data(self, index, n):\n",
    "        self.nums[index] = n\n",
    "        \n",
    "data_one = Data()\n",
    "data_one.nums[0] = 100\n",
    "print(data_one.nums)"
   ]
  },
  {
   "cell_type": "code",
   "execution_count": 18,
   "metadata": {},
   "outputs": [
    {
     "name": "stdout",
     "output_type": "stream",
     "text": [
      "[100, 2, 3, 4, 5]\n"
     ]
    }
   ],
   "source": [
    "data_two = Data()\n",
    "data_two.change_data(0, 100)\n",
    "print(data_two.nums)"
   ]
  },
  {
   "cell_type": "code",
   "execution_count": 19,
   "metadata": {},
   "outputs": [
    {
     "name": "stdout",
     "output_type": "stream",
     "text": [
      "[1, 2, 100, 4, 5]\n"
     ]
    }
   ],
   "source": [
    "data_three = Data()\n",
    "data_three.nums[2] = 100\n",
    "print(data_three.nums)"
   ]
  },
  {
   "cell_type": "code",
   "execution_count": 21,
   "metadata": {},
   "outputs": [
    {
     "name": "stdout",
     "output_type": "stream",
     "text": [
      "[1, 2, 200, 4, 5]\n"
     ]
    }
   ],
   "source": [
    "data_four = Data()\n",
    "data_four.change_data(2, 200)\n",
    "print(data_four.nums)"
   ]
  },
  {
   "cell_type": "code",
   "execution_count": 22,
   "metadata": {},
   "outputs": [],
   "source": [
    "class PublicPrivateExample:\n",
    "    def __init__(self):\n",
    "        self.public = \"safe\"\n",
    "        self.unsafe = \"unsafe\"\n",
    "        \n",
    "    def public_method(self):\n",
    "        # client が使っても良い\n",
    "        pass # pass文は、ぶんが必須な構文で何もしない場合に使う\n",
    "    \n",
    "    def _unsafe_method(self):\n",
    "        # clientは使うべきじゃない\n",
    "        pass # pass文は、文が必須な構文で何もしない場合に使う"
   ]
  },
  {
   "cell_type": "code",
   "execution_count": 29,
   "metadata": {},
   "outputs": [
    {
     "data": {
      "text/plain": [
       "<bound method PublicPrivateExample.__init__ of <__main__.PublicPrivateExample object at 0x104c1a240>>"
      ]
     },
     "execution_count": 29,
     "metadata": {},
     "output_type": "execute_result"
    }
   ],
   "source": [
    "sample = PublicPrivateExample()\n",
    "sample.__init__"
   ]
  },
  {
   "cell_type": "code",
   "execution_count": 27,
   "metadata": {},
   "outputs": [
    {
     "name": "stdout",
     "output_type": "stream",
     "text": [
      "<bound method PublicPrivateExample.__init__ of <__main__.PublicPrivateExample object at 0x104c1a208>>\n"
     ]
    }
   ],
   "source": [
    "print(sample.__init__)"
   ]
  },
  {
   "cell_type": "code",
   "execution_count": 30,
   "metadata": {},
   "outputs": [
    {
     "data": {
      "text/plain": [
       "<bound method PublicPrivateExample.public_method of <__main__.PublicPrivateExample object at 0x104c1a240>>"
      ]
     },
     "execution_count": 30,
     "metadata": {},
     "output_type": "execute_result"
    }
   ],
   "source": [
    "sample.public_method"
   ]
  },
  {
   "cell_type": "code",
   "execution_count": null,
   "metadata": {},
   "outputs": [],
   "source": []
  }
 ],
 "metadata": {
  "kernelspec": {
   "display_name": "Python 3",
   "language": "python",
   "name": "python3"
  },
  "language_info": {
   "codemirror_mode": {
    "name": "ipython",
    "version": 3
   },
   "file_extension": ".py",
   "mimetype": "text/x-python",
   "name": "python",
   "nbconvert_exporter": "python",
   "pygments_lexer": "ipython3",
   "version": "3.6.1"
  }
 },
 "nbformat": 4,
 "nbformat_minor": 2
}
