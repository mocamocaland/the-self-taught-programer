{
 "cells": [
  {
   "cell_type": "code",
   "execution_count": 7,
   "metadata": {},
   "outputs": [
    {
     "name": "stdout",
     "output_type": "stream",
     "text": [
      "20 by 25 \n"
     ]
    }
   ],
   "source": [
    "# 継承\n",
    "\n",
    "class Shape:\n",
    "    def __init__(self, w, l):\n",
    "        self.width = w\n",
    "        self.len = l\n",
    "        \n",
    "    def print_size(self):\n",
    "        print(\"{} by {} \".format(self.width, self.len))\n",
    "\n",
    "\n",
    "my_shape = Shape(20, 25)\n",
    "my_shape.print_size()"
   ]
  },
  {
   "cell_type": "code",
   "execution_count": 9,
   "metadata": {},
   "outputs": [
    {
     "name": "stdout",
     "output_type": "stream",
     "text": [
      "20 by 20 \n"
     ]
    }
   ],
   "source": [
    "class Square(Shape):\n",
    "    pass\n",
    "\n",
    "\n",
    "a_square = Square(20, 20)\n",
    "a_square.print_size()"
   ]
  },
  {
   "cell_type": "code",
   "execution_count": null,
   "metadata": {},
   "outputs": [],
   "source": []
  }
 ],
 "metadata": {
  "kernelspec": {
   "display_name": "Python 3",
   "language": "python",
   "name": "python3"
  },
  "language_info": {
   "codemirror_mode": {
    "name": "ipython",
    "version": 3
   },
   "file_extension": ".py",
   "mimetype": "text/x-python",
   "name": "python",
   "nbconvert_exporter": "python",
   "pygments_lexer": "ipython3",
   "version": "3.6.1"
  }
 },
 "nbformat": 4,
 "nbformat_minor": 2
}
