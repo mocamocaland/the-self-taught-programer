{
 "cells": [
  {
   "cell_type": "code",
   "execution_count": 16,
   "metadata": {},
   "outputs": [],
   "source": [
    "# カプセル化\n",
    "\n",
    "class Rectangle:\n",
    "    def __init__(self, w, l):\n",
    "        self.width = w\n",
    "        self.len = l\n",
    "        \n",
    "        \n",
    "    def area(self):\n",
    "        return self.width * self.len # lenとwidthがインスタンス"
   ]
  },
  {
   "cell_type": "code",
   "execution_count": 17,
   "metadata": {},
   "outputs": [
    {
     "name": "stdout",
     "output_type": "stream",
     "text": [
      "[100, 2, 3, 4, 5]\n"
     ]
    }
   ],
   "source": [
    "class Data:\n",
    "    def __init__(self):\n",
    "        self.nums = [1, 2, 3, 4, 5]\n",
    "        \n",
    "    def change_data(self, index, n):\n",
    "        self.nums[index] = n\n",
    "        \n",
    "data_one = Data()\n",
    "data_one.nums[0] = 100\n",
    "print(data_one.nums)"
   ]
  },
  {
   "cell_type": "code",
   "execution_count": 18,
   "metadata": {},
   "outputs": [
    {
     "name": "stdout",
     "output_type": "stream",
     "text": [
      "[100, 2, 3, 4, 5]\n"
     ]
    }
   ],
   "source": [
    "data_two = Data()\n",
    "data_two.change_data(0, 100)\n",
    "print(data_two.nums)"
   ]
  },
  {
   "cell_type": "code",
   "execution_count": 19,
   "metadata": {},
   "outputs": [
    {
     "name": "stdout",
     "output_type": "stream",
     "text": [
      "[1, 2, 100, 4, 5]\n"
     ]
    }
   ],
   "source": [
    "data_three = Data()\n",
    "data_three.nums[2] = 100\n",
    "print(data_three.nums)"
   ]
  },
  {
   "cell_type": "code",
   "execution_count": 21,
   "metadata": {},
   "outputs": [
    {
     "name": "stdout",
     "output_type": "stream",
     "text": [
      "[1, 2, 200, 4, 5]\n"
     ]
    }
   ],
   "source": [
    "data_four = Data()\n",
    "data_four.change_data(2, 200)\n",
    "print(data_four.nums)"
   ]
  },
  {
   "cell_type": "code",
   "execution_count": null,
   "metadata": {},
   "outputs": [],
   "source": []
  }
 ],
 "metadata": {
  "kernelspec": {
   "display_name": "Python 3",
   "language": "python",
   "name": "python3"
  },
  "language_info": {
   "codemirror_mode": {
    "name": "ipython",
    "version": 3
   },
   "file_extension": ".py",
   "mimetype": "text/x-python",
   "name": "python",
   "nbconvert_exporter": "python",
   "pygments_lexer": "ipython3",
   "version": "3.6.1"
  }
 },
 "nbformat": 4,
 "nbformat_minor": 2
}
